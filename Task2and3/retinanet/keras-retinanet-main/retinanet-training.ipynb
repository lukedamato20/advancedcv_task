{
 "cells": [
  {
   "cell_type": "code",
   "execution_count": 6,
   "id": "aff51f67",
   "metadata": {},
   "outputs": [],
   "source": [
    "import torch\n",
    "\n",
    "torch.cuda.is_available = lambda : False\n",
    "device = torch.device('cuda' if torch.cuda.is_available() else 'cpu')"
   ]
  },
  {
   "cell_type": "code",
   "execution_count": null,
   "id": "fa9a2fa0",
   "metadata": {},
   "outputs": [],
   "source": [
    "!python keras_retinanet/bin/train.py --tensorboard-dir ../TrainingOutput --snapshot-path ../TrainingOutput/snapshots --random-transform --steps 100 pascal ../CranesVOC"
   ]
  }
 ],
 "metadata": {
  "kernelspec": {
   "display_name": "Python 3 (ipykernel)",
   "language": "python",
   "name": "python3"
  },
  "language_info": {
   "codemirror_mode": {
    "name": "ipython",
    "version": 3
   },
   "file_extension": ".py",
   "mimetype": "text/x-python",
   "name": "python",
   "nbconvert_exporter": "python",
   "pygments_lexer": "ipython3",
   "version": "3.9.13"
  }
 },
 "nbformat": 4,
 "nbformat_minor": 5
}
