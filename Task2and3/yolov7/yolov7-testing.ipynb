{
 "cells": [
  {
   "cell_type": "code",
   "execution_count": 1,
   "id": "4ac25b15",
   "metadata": {},
   "outputs": [],
   "source": [
    "# import keras\n",
    "import keras\n",
    "import shutil\n",
    "import os\n",
    "import numpy as np\n",
    "\n",
    "path = os.getcwd()\n",
    " \n",
    "model_path = os.path.join(path, \"yolov7_custom.pt\")\n",
    "image_path = os.path.join(path, \"/data/testing\", \"imgTEST.jpg\")\n",
    "image_output_path = os.path.join(path, \"/runs/detect\", \"imgDETECT.jpg\")"
   ]
  },
  {
   "cell_type": "code",
   "execution_count": 4,
   "id": "3f8e1577",
   "metadata": {
    "scrolled": false
   },
   "outputs": [
    {
     "name": "stdout",
     "output_type": "stream",
     "text": [
      "results refreshed\n",
      "Namespace(weights=['yolov7_custom.pt'], source='data/testing/imgTEST1.jpg', img_size=640, conf_thres=0.1, iou_thres=0.45, device='', view_img=False, save_txt=True, save_conf=False, nosave=False, classes=None, agnostic_nms=False, augment=False, update=False, project='runs/detect', name='result', exist_ok=False, no_trace=False)\n",
      "Fusing layers... \n",
      "RepConv.fuse_repvgg_block\n",
      "RepConv.fuse_repvgg_block\n",
      "RepConv.fuse_repvgg_block\n",
      "IDetect.fuse\n",
      " Convert model to Traced-model... \n",
      " traced_script_module saved! \n",
      " model is traced! \n",
      "\n",
      "7 cranes, Done. (427.3ms) Inference, (7.2ms) NMS\n",
      " The image with the result is saved in: runs\\detect\\result\\imgTEST1.jpg\n",
      "Done. (0.473s)\n"
     ]
    },
    {
     "name": "stderr",
     "output_type": "stream",
     "text": [
      "YOLOR  2023-1-1 torch 1.13.1+cpu CPU\n",
      "\n",
      "Model Summary: 314 layers, 36481772 parameters, 6194944 gradients\n",
      "C:\\Users\\lldam\\anaconda3\\lib\\site-packages\\torch\\functional.py:504: UserWarning: torch.meshgrid: in an upcoming release, it will be required to pass the indexing argument. (Triggered internally at C:\\actions-runner\\_work\\pytorch\\pytorch\\builder\\windows\\pytorch\\aten\\src\\ATen\\native\\TensorShape.cpp:3191.)\n",
      "  return _VF.meshgrid(tensors, **kwargs)  # type: ignore[attr-defined]\n"
     ]
    }
   ],
   "source": [
    "result_path = 'runs/detect/result'\n",
    "\n",
    "if os.path.exists(result_path) and os.path.isdir(result_path):\n",
    "    shutil.rmtree(result_path)\n",
    "    print(\"results refreshed\")\n",
    "\n",
    "!python detect.py --weights yolov7_custom.pt --conf 0.10 --img-size 640 --source \"data/testing/imgTEST1.jpg\" --name result --save-txt"
   ]
  },
  {
   "cell_type": "code",
   "execution_count": 7,
   "id": "4a16fd76",
   "metadata": {},
   "outputs": [],
   "source": [
    "def save_rows(filename):\n",
    "    keys = ['batch', 'x', 'y', 'val']\n",
    "    dicts = []\n",
    "    with open(filename) as f:\n",
    "        for line in f:\n",
    "            line = line.strip().split(',')\n",
    "            d = dict(zip(keys, line))\n",
    "            dicts.append(d)\n",
    "    return dicts\n",
    "\n",
    "# Converting arrays to dictionaries\n",
    "arraydict = save_rows('runs/detect/result/labels/imgTEST1.txt')                \n",
    "\n",
    "# Writing bounding boxes to json file\n",
    "import json\n",
    "import codecs\n",
    "\n",
    "json_file = \"result.json\" \n",
    "json.dump(str(arraydict), codecs.open(json_file, 'w', encoding='utf-8'), sort_keys=True, indent=4)"
   ]
  }
 ],
 "metadata": {
  "kernelspec": {
   "display_name": "Python 3 (ipykernel)",
   "language": "python",
   "name": "python3"
  },
  "language_info": {
   "codemirror_mode": {
    "name": "ipython",
    "version": 3
   },
   "file_extension": ".py",
   "mimetype": "text/x-python",
   "name": "python",
   "nbconvert_exporter": "python",
   "pygments_lexer": "ipython3",
   "version": "3.9.13"
  }
 },
 "nbformat": 4,
 "nbformat_minor": 5
}
