{
 "cells": [
  {
   "cell_type": "markdown",
   "id": "2b55d251",
   "metadata": {},
   "source": [
    "### Task 1"
   ]
  },
  {
   "cell_type": "markdown",
   "id": "6a186c3a",
   "metadata": {},
   "source": [
    "ResNet50\n",
    "\n",
    "Image1: 98%\n",
    "Image2: 94%\n",
    "Image3: 98%\n",
    "Image4: 97%\n",
    "Image5: 98%"
   ]
  },
  {
   "cell_type": "code",
   "execution_count": null,
   "id": "42df978e",
   "metadata": {},
   "outputs": [],
   "source": [
    "# ResNet50\n",
    "\n",
    "from tensorflow.keras.applications.resnet50 import ResNet50\n",
    "from tensorflow.keras.preprocessing import image\n",
    "from tensorflow.keras.applications.resnet50 import preprocess_input, decode_predictions\n",
    "import numpy as np\n",
    "\n",
    "model = ResNet50(weights='imagenet')\n",
    "\n",
    "img_path = 'dataset/testing/crane5.jpeg'\n",
    "img = image.load_img(img_path, target_size=(224, 224))\n",
    "x = image.img_to_array(img)\n",
    "x = np.expand_dims(x, axis=0)\n",
    "x = preprocess_input(x)\n",
    "\n",
    "preds = model.predict(x)\n",
    "\n",
    "# decode the results into a list of tuples (class, description, probability)\n",
    "# (one such list for each sample in the batch)\n",
    "print('Predicted:', decode_predictions(preds, top=3)[0])"
   ]
  },
  {
   "cell_type": "markdown",
   "id": "5a01f882",
   "metadata": {},
   "source": [
    "VGG16\n",
    "\n",
    "Image1: 80%\n",
    "Image2: 84%\n",
    "Image3: 42%\n",
    "Image4: 77%\n",
    "Image5: 39%"
   ]
  },
  {
   "cell_type": "code",
   "execution_count": null,
   "id": "8da4ef67",
   "metadata": {},
   "outputs": [],
   "source": [
    "# VGG16\n",
    "\n",
    "from tensorflow.keras.applications.vgg16 import VGG16\n",
    "from tensorflow.keras.preprocessing import image\n",
    "from tensorflow.keras.applications.vgg16 import preprocess_input\n",
    "import numpy as np\n",
    "\n",
    "model = VGG16(weights='imagenet')\n",
    "\n",
    "img_path = 'images/crane5.jpeg'\n",
    "img = image.load_img(img_path, target_size=(224, 224))\n",
    "x = image.img_to_array(img)\n",
    "x = np.expand_dims(x, axis=0)\n",
    "x = preprocess_input(x)\n",
    "\n",
    "features = model.predict(x)"
   ]
  },
  {
   "cell_type": "code",
   "execution_count": null,
   "id": "07825749",
   "metadata": {
    "scrolled": true
   },
   "outputs": [],
   "source": [
    "print('Predicted:', decode_predictions(features, top=3)[0])"
   ]
  },
  {
   "cell_type": "markdown",
   "id": "f656c6a1",
   "metadata": {},
   "source": [
    "VGG19\n",
    "\n",
    "Image1: 81% \n",
    "Image2: 66%\n",
    "Image3: 59%\n",
    "Image4: 77%\n",
    "Image5: 46%"
   ]
  },
  {
   "cell_type": "code",
   "execution_count": null,
   "id": "021ab852",
   "metadata": {},
   "outputs": [],
   "source": [
    "from tensorflow.keras.applications.vgg19 import VGG19\n",
    "from tensorflow.keras.preprocessing import image\n",
    "from tensorflow.keras.applications.vgg19 import preprocess_input\n",
    "from tensorflow.keras.models import Model\n",
    "import numpy as np\n",
    "\n",
    "base_model = VGG19(weights='imagenet')\n",
    "# model = Model(inputs=base_model.input, outputs=base_model.get_layer('block4_pool').output)\n",
    "\n",
    "img_path = 'images/crane5.jpeg'\n",
    "img = image.load_img(img_path, target_size=(224, 224))\n",
    "x = image.img_to_array(img)\n",
    "x = np.expand_dims(x, axis=0)\n",
    "x = preprocess_input(x)\n",
    "\n",
    "block4_pool_features = base_model.predict(x)"
   ]
  },
  {
   "cell_type": "code",
   "execution_count": null,
   "id": "2716eba9",
   "metadata": {},
   "outputs": [],
   "source": [
    "print('Predicted:', decode_predictions(block4_pool_features, top=3)[0])"
   ]
  },
  {
   "cell_type": "markdown",
   "id": "b13ec7f3",
   "metadata": {},
   "source": [
    "## Testing"
   ]
  },
  {
   "cell_type": "markdown",
   "id": "55035161",
   "metadata": {},
   "source": [
    "### ResNet50"
   ]
  },
  {
   "cell_type": "code",
   "execution_count": null,
   "id": "ec07b87a",
   "metadata": {},
   "outputs": [],
   "source": [
    "from tensorflow.keras.applications.resnet50 import ResNet50\n",
    "from tensorflow.keras.preprocessing import image\n",
    "from tensorflow.keras.applications.resnet50 import preprocess_input, decode_predictions\n",
    "import numpy as np\n",
    "\n",
    "\n",
    "import os\n",
    "table = {}\n",
    "\n",
    "model = ResNet50(weights='imagenet')\n",
    "count = 0\n",
    "total = 0\n",
    "max_value = [0, 0]\n",
    "min_value = [0, 1]\n",
    "\n",
    "for i in os.listdir('crane_images'):\n",
    "    \n",
    "    table[count] = []\n",
    "    \n",
    "    img_path = 'crane_images/' + i\n",
    "    img = image.load_img(img_path, target_size=(224, 224))\n",
    "    x = image.img_to_array(img)\n",
    "    x = np.expand_dims(x, axis=0)\n",
    "    x = preprocess_input(x)\n",
    "\n",
    "    \n",
    "    preds = model.predict(x)\n",
    "    temp = decode_predictions(preds, top=10)[0]\n",
    "    \n",
    "    test_temp = 0\n",
    "    for i in temp:\n",
    "        if i[1] == 'crane':\n",
    "            test_temp = i[2]\n",
    "        \n",
    "    \n",
    "    table[count].append(test_temp)\n",
    "    \n",
    "    if test_temp > max_value[1]:\n",
    "        max_value[0] = count\n",
    "        max_value[1] = test_temp\n",
    "    if test_temp < min_value[1]:\n",
    "        min_value[0] = count\n",
    "        min_value[1] = test_temp\n",
    "    \n",
    "    print(count)\n",
    "    count += 1\n",
    "    total = total + (test_temp)\n",
    "    \n",
    "print(\"avg percentage: \", total/count)"
   ]
  },
  {
   "cell_type": "code",
   "execution_count": null,
   "id": "9a4c95dc",
   "metadata": {},
   "outputs": [],
   "source": [
    "#print(\"table\")\n",
    "#print(table)\n",
    "\n",
    "print(max_value, \" \", min_value)"
   ]
  },
  {
   "cell_type": "markdown",
   "id": "f873f9ef",
   "metadata": {},
   "source": [
    "### VGG19"
   ]
  },
  {
   "cell_type": "code",
   "execution_count": null,
   "id": "23760ea0",
   "metadata": {},
   "outputs": [],
   "source": [
    "from tensorflow.keras.applications.vgg19 import VGG19\n",
    "from tensorflow.keras.preprocessing import image\n",
    "from tensorflow.keras.applications.vgg19 import preprocess_input\n",
    "from tensorflow.keras.models import Model\n",
    "import numpy as np\n",
    "\n",
    "base_model = VGG19(weights='imagenet')\n",
    "\n",
    "count = 0\n",
    "total2 = 0\n",
    "max_value2 = [0, 0]\n",
    "min_value2 = [0, 1]\n",
    "\n",
    "for i in os.listdir('crane_images'):\n",
    "    img_path = 'crane_images/' + i\n",
    "    img = image.load_img(img_path, target_size=(224, 224))\n",
    "    x = image.img_to_array(img)\n",
    "    x = np.expand_dims(x, axis=0)\n",
    "    x = preprocess_input(x)\n",
    "\n",
    "\n",
    "    preds = base_model.predict(x)\n",
    "        \n",
    "    temp = decode_predictions(preds, top=10)[0]\n",
    "    \n",
    "    test_temp = 0\n",
    "    for i in temp:\n",
    "        if i[1] == 'crane':\n",
    "            test_temp = i[2]\n",
    "        \n",
    "    \n",
    "    table[count].append(test_temp)\n",
    "    \n",
    "    if test_temp > max_value2[1]:\n",
    "        max_value2[0] = count\n",
    "        max_value2[1] = test_temp\n",
    "    if test_temp < min_value2[1]:\n",
    "        min_value2[0] = count\n",
    "        min_value2[1] = test_temp\n",
    "    \n",
    "    print(count)\n",
    "    count += 1\n",
    "    total2 = total + test_temp\n",
    "    \n",
    "print(\"avg percentage: \", total2/count)"
   ]
  },
  {
   "cell_type": "code",
   "execution_count": null,
   "id": "31afdf0d",
   "metadata": {},
   "outputs": [],
   "source": [
    "#print(\"table\")\n",
    "#print(table)\n",
    "\n",
    "print(max_value2, \" \", min_value2)"
   ]
  },
  {
   "cell_type": "code",
   "execution_count": null,
   "id": "401e5cfe",
   "metadata": {},
   "outputs": [],
   "source": [
    "print(\"{:<20} {:<20} {:<20}\".format('number','resnet','vgg'))\n",
    "for k, v in table.items():\n",
    "    resnet, vgg = v\n",
    "    print(\"{:<20} {:<20} {:<20}\".format(k, resnet, vgg))"
   ]
  }
 ],
 "metadata": {
  "kernelspec": {
   "display_name": "Python 3 (ipykernel)",
   "language": "python",
   "name": "python3"
  },
  "language_info": {
   "codemirror_mode": {
    "name": "ipython",
    "version": 3
   },
   "file_extension": ".py",
   "mimetype": "text/x-python",
   "name": "python",
   "nbconvert_exporter": "python",
   "pygments_lexer": "ipython3",
   "version": "3.9.13"
  }
 },
 "nbformat": 4,
 "nbformat_minor": 5
}
