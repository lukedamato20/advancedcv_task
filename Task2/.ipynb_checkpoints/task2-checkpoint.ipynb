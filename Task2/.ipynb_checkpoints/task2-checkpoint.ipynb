{
 "cells": [
  {
   "cell_type": "code",
   "execution_count": null,
   "id": "f7fcf78b",
   "metadata": {},
   "outputs": [],
   "source": [
    "import splitfolders\n",
    "\n",
    "# Split with a ratio.\n",
    "splitfolders.ratio(\"input\", output=\"output\", seed=1337, ratio=(.8, .2), group_prefix=None, move=False)"
   ]
  },
  {
   "cell_type": "code",
   "execution_count": null,
   "id": "36979835",
   "metadata": {},
   "outputs": [],
   "source": [
    "from tensorflow.keras.preprocessing.image import ImageDataGenerator\n",
    "import os\n",
    "import matplotlib.pyplot as plt\n",
    "import numpy as np\n",
    "import cv2\n",
    "\n",
    "train_dir = os.path.dirname('output/train')\n",
    "\n",
    "# This function will plot images in the form of a grid with 1 row and 5 columns where images are placed in each column.\n",
    "def plotImages(images_arr):\n",
    "    fig, axes = plt.subplots(1, 5, figsize=(20,20))\n",
    "    axes = axes.flatten()\n",
    "    for img, ax in zip(images_arr, axes):\n",
    "        ax.imshow(img)\n",
    "    plt.tight_layout()\n",
    "    plt.show()\n",
    "\n",
    "image_gen_train = ImageDataGenerator(\n",
    "    brightness_range = [0.3, 1.2],\n",
    "    rescale = 1./255,\n",
    "    fill_mode = 'nearest')\n",
    "\n",
    "img_size = 640\n",
    "\n",
    "train_data_gen = image_gen_train.flow_from_directory(batch_size=115,\n",
    "                                                     directory=train_dir,\n",
    "                                                     shuffle=True,\n",
    "                                                     target_size=(img_size,img_size),\n",
    "                                                     class_mode='binary')\n",
    "\n",
    "print(\"len: \", len(train_data_gen))\n",
    "\n",
    "augmented_images = [train_data_gen[0][0][0] for i in range(5)]\n",
    "plotImages(augmented_images)"
   ]
  },
  {
   "cell_type": "markdown",
   "id": "8999824b",
   "metadata": {},
   "source": [
    "### Yolo v7"
   ]
  },
  {
   "cell_type": "code",
   "execution_count": null,
   "id": "470dad51",
   "metadata": {},
   "outputs": [],
   "source": [
    "from google.colab import drive\n",
    "drive.mount('/content/drive')\n",
    "\n",
    "%cd drive/MyDrive/ColabNotebooks/yolov7-main"
   ]
  },
  {
   "cell_type": "code",
   "execution_count": null,
   "id": "ec0137b4",
   "metadata": {},
   "outputs": [],
   "source": [
    "#!python train.py --workers 1 --device 0 --batch-size 8 --epochs 100 --img 640 640 --data data/custom_data.yaml --hyp data/hyp.scratch.custom.yaml --cfg cfg/training/yolov7-custom.yaml --name yolov7-custom --weights yolov7.pt"
   ]
  },
  {
   "cell_type": "code",
   "execution_count": null,
   "id": "7a61fa64",
   "metadata": {},
   "outputs": [],
   "source": []
  },
  {
   "cell_type": "markdown",
   "id": "c4f45059",
   "metadata": {},
   "source": [
    "### Retinanet"
   ]
  },
  {
   "cell_type": "code",
   "execution_count": null,
   "id": "4fe422b9",
   "metadata": {},
   "outputs": [],
   "source": [
    "from google.colab import drive\n",
    "drive.mount('/content/drive')\n",
    "\n",
    "%cd drive/MyDrive/ColabNotebooks/retinanet/keras-retinanet-main"
   ]
  },
  {
   "cell_type": "code",
   "execution_count": null,
   "id": "48bf816c",
   "metadata": {},
   "outputs": [],
   "source": [
    "#!python keras_retinanet/bin/train.py --tensorboard-dir ../TrainingOutput --snapshot-path ../TrainingOutput/snapshots --random-transform --steps 100 pascal ../CranesVOC"
   ]
  },
  {
   "cell_type": "code",
   "execution_count": null,
   "id": "f01c69b9",
   "metadata": {},
   "outputs": [],
   "source": []
  }
 ],
 "metadata": {
  "kernelspec": {
   "display_name": "Python 3 (ipykernel)",
   "language": "python",
   "name": "python3"
  },
  "language_info": {
   "codemirror_mode": {
    "name": "ipython",
    "version": 3
   },
   "file_extension": ".py",
   "mimetype": "text/x-python",
   "name": "python",
   "nbconvert_exporter": "python",
   "pygments_lexer": "ipython3",
   "version": "3.9.13"
  }
 },
 "nbformat": 4,
 "nbformat_minor": 5
}
