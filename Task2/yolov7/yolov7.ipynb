{
 "cells": [
  {
   "cell_type": "code",
   "execution_count": 4,
   "metadata": {
    "colab": {
     "base_uri": "https://localhost:8080/"
    },
    "executionInfo": {
     "elapsed": 2063,
     "status": "ok",
     "timestamp": 1674460792756,
     "user": {
      "displayName": "Luke D'Amato",
      "userId": "11547535473542317812"
     },
     "user_tz": -60
    },
    "id": "eoE-1mzoQOoJ",
    "outputId": "67a84032-d943-4aea-bf8c-19c1892bdc40"
   },
   "outputs": [
    {
     "name": "stdout",
     "output_type": "stream",
     "text": [
      "Drive already mounted at /content/drive; to attempt to forcibly remount, call drive.mount(\"/content/drive\", force_remount=True).\n",
      "/content/drive/MyDrive/ColabNotebooks/yolov7-main\n"
     ]
    }
   ],
   "source": [
    "import torch\n",
    "\n",
    "torch.cuda.is_available = lambda : False\n",
    "device = torch.device('cuda' if torch.cuda.is_available() else 'cpu')"
   ]
  },
  {
   "cell_type": "code",
   "execution_count": 2,
   "metadata": {},
   "outputs": [
    {
     "name": "stdout",
     "output_type": "stream",
     "text": [
      "False\n"
     ]
    }
   ],
   "source": [
    "import torch\n",
    "print(torch.cuda.is_available())"
   ]
  },
  {
   "cell_type": "code",
   "execution_count": 1,
   "metadata": {
    "colab": {
     "base_uri": "https://localhost:8080/"
    },
    "executionInfo": {
     "elapsed": 16256139,
     "status": "ok",
     "timestamp": 1674477059081,
     "user": {
      "displayName": "Luke D'Amato",
      "userId": "11547535473542317812"
     },
     "user_tz": -60
    },
    "id": "x5Y3VX01pBSQ",
    "outputId": "324c8ef9-09ee-43ca-c57a-68b7866f864b"
   },
   "outputs": [
    {
     "name": "stderr",
     "output_type": "stream",
     "text": [
      "Traceback (most recent call last):\n",
      "  File \"C:\\Users\\lldam\\OneDrive\\UOM\\3rd Year\\Advanced Computer Vision\\advancedcv_task\\Task2\\yolov7\\train.py\", line 595, in <module>\n",
      "    device = select_device(opt.device, batch_size=opt.batch_size)\n",
      "  File \"C:\\Users\\lldam\\OneDrive\\UOM\\3rd Year\\Advanced Computer Vision\\advancedcv_task\\Task2\\yolov7\\utils\\torch_utils.py\", line 71, in select_device\n",
      "    assert torch.cuda.is_available(), f'CUDA unavailable, invalid device {device} requested'  # check availability\n",
      "AssertionError: CUDA unavailable, invalid device 0 requested\n"
     ]
    }
   ],
   "source": [
    "!python train.py --workers 1 --device 0 --batch-size 8 --epochs 5 --img 640 640 --data data/custom_data.yaml --hyp data/hyp.scratch.custom.yaml --cfg cfg/training/yolov7-custom.yaml --name yolov7-custom --weights yolov7.pt"
   ]
  },
  {
   "cell_type": "code",
   "execution_count": 11,
   "metadata": {
    "colab": {
     "base_uri": "https://localhost:8080/"
    },
    "executionInfo": {
     "elapsed": 2837,
     "status": "ok",
     "timestamp": 1674477827964,
     "user": {
      "displayName": "Luke D'Amato",
      "userId": "11547535473542317812"
     },
     "user_tz": -60
    },
    "id": "fkoME_AMoyo7",
    "outputId": "f60bedc3-6689-4809-e1be-04b06d4b4dde"
   },
   "outputs": [
    {
     "name": "stdout",
     "output_type": "stream",
     "text": [
      "Looking in indexes: https://pypi.org/simple, https://us-python.pkg.dev/colab-wheels/public/simple/\n",
      "Requirement already satisfied: opencv-python in /usr/local/lib/python3.8/dist-packages (4.1.2.30)\n",
      "Requirement already satisfied: numpy>=1.17.3 in /usr/local/lib/python3.8/dist-packages (from opencv-python) (1.21.6)\n"
     ]
    }
   ],
   "source": [
    "!pip install opencv-python"
   ]
  },
  {
   "cell_type": "code",
   "execution_count": 13,
   "metadata": {
    "colab": {
     "base_uri": "https://localhost:8080/"
    },
    "executionInfo": {
     "elapsed": 18878,
     "status": "ok",
     "timestamp": 1674477969250,
     "user": {
      "displayName": "Luke D'Amato",
      "userId": "11547535473542317812"
     },
     "user_tz": -60
    },
    "id": "pi-kSzrsnnjK",
    "outputId": "546c2967-16d8-4ab6-a9a5-82815ff5dd81"
   },
   "outputs": [
    {
     "name": "stdout",
     "output_type": "stream",
     "text": [
      "Namespace(agnostic_nms=False, augment=False, classes=None, conf_thres=0.5, device='', exist_ok=False, img_size=640, iou_thres=0.45, name='exp', no_trace=False, nosave=False, project='runs/detect', save_conf=False, save_txt=False, source='imgTEST.jpg', update=False, view_img=False, weights=['yolov7_custom.pt'])\n",
      "YOLOR 🚀 2023-1-1 torch 1.13.1+cu116 CUDA:0 (Tesla T4, 15109.75MB)\n",
      "\n",
      "Fusing layers... \n",
      "RepConv.fuse_repvgg_block\n",
      "RepConv.fuse_repvgg_block\n",
      "RepConv.fuse_repvgg_block\n",
      "IDetect.fuse\n",
      "Model Summary: 314 layers, 36481772 parameters, 6194944 gradients\n",
      " Convert model to Traced-model... \n",
      " traced_script_module saved! \n",
      " model is traced! \n",
      "\n",
      "/usr/local/lib/python3.8/dist-packages/torch/functional.py:504: UserWarning: torch.meshgrid: in an upcoming release, it will be required to pass the indexing argument. (Triggered internally at ../aten/src/ATen/native/TensorShape.cpp:3190.)\n",
      "  return _VF.meshgrid(tensors, **kwargs)  # type: ignore[attr-defined]\n",
      "2 cranes, Done. (18.3ms) Inference, (1.4ms) NMS\n",
      " The image with the result is saved in: runs/detect/exp4/imgTEST.jpg\n",
      "Done. (0.757s)\n"
     ]
    }
   ],
   "source": [
    "!python detect.py --weights yolov7_custom.pt --conf 0.5 --img-size 640 --source imgTEST.jpg"
   ]
  }
 ],
 "metadata": {
  "accelerator": "GPU",
  "colab": {
   "authorship_tag": "ABX9TyMeGn9PkZr8G1hQUZs95BqE",
   "provenance": []
  },
  "gpuClass": "standard",
  "kernelspec": {
   "display_name": "Python 3 (ipykernel)",
   "language": "python",
   "name": "python3"
  },
  "language_info": {
   "codemirror_mode": {
    "name": "ipython",
    "version": 3
   },
   "file_extension": ".py",
   "mimetype": "text/x-python",
   "name": "python",
   "nbconvert_exporter": "python",
   "pygments_lexer": "ipython3",
   "version": "3.9.13"
  }
 },
 "nbformat": 4,
 "nbformat_minor": 1
}
